{
 "cells": [
  {
   "cell_type": "code",
   "execution_count": 1,
   "metadata": {},
   "outputs": [
    {
     "name": "stderr",
     "output_type": "stream",
     "text": [
      "/usr/lib/python2.7/site-packages/sklearn/cross_validation.py:44: DeprecationWarning: This module was deprecated in version 0.18 in favor of the model_selection module into which all the refactored classes and functions are moved. Also note that the interface of the new CV iterators are different from that of this module. This module will be removed in 0.20.\n",
      "  \"This module will be removed in 0.20.\", DeprecationWarning)\n",
      "Using TensorFlow backend.\n"
     ]
    }
   ],
   "source": [
    "from scipy.io import loadmat\n",
    "import matplotlib.pyplot as plt\n",
    "import numpy as np\n",
    "%matplotlib inline\n",
    "import pandas as pd\n",
    "import numpy as np\n",
    "import pandas as pd\n",
    "import matplotlib.pyplot as plt \n",
    "import scipy as sp\n",
    "from xgboost.sklearn import XGBClassifier\n",
    "from sklearn.model_selection import train_test_split\n",
    "from sklearn.metrics import log_loss\n",
    "from sklearn.model_selection import GridSearchCV\n",
    "from sklearn.svm import SVC\n",
    "from sklearn import ensemble\n",
    "from sklearn.metrics import mean_squared_error\n",
    "from keras.preprocessing import sequence\n",
    "from keras.models import Sequential\n",
    "from keras.layers import Dense, Activation, Embedding\n",
    "from keras.layers import LSTM\n",
    "from keras.layers.core import Reshape, Dropout"
   ]
  },
  {
   "cell_type": "code",
   "execution_count": 2,
   "metadata": {},
   "outputs": [],
   "source": [
    "def makeCyclesData():\n",
    "    array = len(a[fileName][0, 0][0][0])\n",
    "    print array\n",
    "\n",
    "    for i in range(616):\n",
    "        numbOfFeat=len(a[fileName][0, 0][0][0][i][3][0][0])\n",
    "        typeCycle=a[fileName][0, 0][0][0][i][0][0]\n",
    "        if (typeCycle==\"impedance\"):\n",
    "            continue\n",
    "        print typeCycle\n",
    "        newDS=open(\"d1/\"+fileName+\"/\"+str(i)+\"_\"+typeCycle+\".csv\", \"w\")\n",
    "        numbOfVect=len(a[fileName][0, 0][0][0][i][3][0][0][0][0])\n",
    "        for k in range(numbOfVect):\n",
    "            if (k>0):\n",
    "                newDS.write(\"\\n\")\n",
    "            for j in range(numbOfFeat):\n",
    "                if (j>0):\n",
    "                    newDS.write(\";\")\n",
    "                if (typeCycle==\"discharge\" and j==6):\n",
    "                    newDS.write(str(a[fileName][0, 0][0][0][i][3][0][0][j][0][0]))\n",
    "                    continue\n",
    "                newDS.write(str(a[fileName][0, 0][0][0][i][3][0][0][j][0][k]))\n",
    "        newDS.close()"
   ]
  },
  {
   "cell_type": "code",
   "execution_count": 3,
   "metadata": {
    "scrolled": true
   },
   "outputs": [],
   "source": [
    "def graphicsCycles():\n",
    "    dataset = pd.read_csv('base_data/B0005/1_discharge.csv', delimiter=';', header=0) \n",
    "    dataset = dataset.as_matrix()\n",
    "    array1=dataset[10:-20,5] # time\n",
    "    array2=dataset[10:-20,1] # cm\n",
    "    plt.plot(array1, array2)\n"
   ]
  },
  {
   "cell_type": "code",
   "execution_count": 4,
   "metadata": {
    "collapsed": true
   },
   "outputs": [],
   "source": [
    "def graphicsCars():\n",
    "    dataset = pd.read_csv('data/380.csv', delimiter=',', header=0) \n",
    "    dataset = dataset.as_matrix()\n",
    "    array1=dataset[:,1] # time\n",
    "    array2=dataset[:,2] # \n",
    "    array3=dataset[:,5] # \n",
    "    plt.plot(array1, array2, color=\"black\")\n",
    "    plt.show()\n",
    "    plt.plot(array1, array3, color=\"red\")\n"
   ]
  },
  {
   "cell_type": "code",
   "execution_count": 5,
   "metadata": {
    "collapsed": true
   },
   "outputs": [],
   "source": [
    "def graphicsCars():\n",
    "    dataset = pd.read_csv('data/380.csv', delimiter=',', header=0) \n",
    "    dataset = dataset.as_matrix()\n",
    "    array1=dataset[:,1] # time\n",
    "    array2=dataset[:,2] # \n",
    "    array3=dataset[:,5] # \n",
    "    plt.plot(array1, array2, color=\"black\")\n",
    "    plt.show()\n",
    "    plt.plot(array1, array3, color=\"red\")\n"
   ]
  },
  {
   "cell_type": "code",
   "execution_count": 6,
   "metadata": {
    "collapsed": true
   },
   "outputs": [],
   "source": [
    "def graphicsCars():\n",
    "    dataset = pd.read_csv('data/380.csv', delimiter=',', header=0) \n",
    "    dataset = dataset.as_matrix()\n",
    "    array1=dataset[:,1] # time\n",
    "    array2=dataset[:,2] # \n",
    "    array3=dataset[:,5] # \n",
    "    plt.plot(array1, array2, color=\"black\")\n",
    "    plt.show()\n",
    "    plt.plot(array1, array3, color=\"red\")\n"
   ]
  },
  {
   "cell_type": "code",
   "execution_count": 7,
   "metadata": {
    "collapsed": true
   },
   "outputs": [],
   "source": [
    "def makeYDatasetsForCapasity(xS=1):\n",
    "    pathDS=\"x\"+str(xS)+\"/\"\n",
    "    fileName=\"B0006\"\n",
    "    xS=1\n",
    "    a = loadmat(\"base_data/\"+fileName+\".mat\")\n",
    "    array=[]\n",
    "    newDS=open(pathDS+\"y_train.csv\", \"w\")\n",
    "    for i in range(616):\n",
    "        numbOfFeat=len(a[fileName][0, 0][0][0][i][3][0][0])\n",
    "        typeCycle=a[fileName][0, 0][0][0][i][0][0]\n",
    "        if (not typeCycle==\"discharge\"):\n",
    "            continue\n",
    "        for h in range(xS):\n",
    "            newDS.write(str(a[fileName][0, 0][0][0][i][3][0][0][6][0][0]))\n",
    "            newDS.write(\"\\n\")\n",
    "        array.append(a[fileName][0, 0][0][0][i][3][0][0][6][0][0])\n",
    "    print len(array)\n",
    "    newDS.close()\n",
    "    #plt.plot(np.linspace(0, len(array), len(array)), array)\n",
    "    fileName=\"B0018\"\n",
    "    a = loadmat(\"base_data/\"+fileName+\".mat\")\n",
    "    array=[]\n",
    "    newDS=open(pathDS+\"y_test.csv\", \"w\")\n",
    "    for i in range(319):\n",
    "        numbOfFeat=len(a[fileName][0, 0][0][0][i][3][0][0])\n",
    "        typeCycle=a[fileName][0, 0][0][0][i][0][0]\n",
    "        if (not typeCycle==\"discharge\"):\n",
    "            continue\n",
    "        newDS.write(str(a[fileName][0, 0][0][0][i][3][0][0][6][0][0]))\n",
    "        if (not i==613):\n",
    "            newDS.write(\"\\n\")\n",
    "        array.append(a[fileName][0, 0][0][0][i][3][0][0][6][0][0])\n",
    "    print len(array)\n",
    "    newDS.close()\n",
    "#plt.plot(np.linspace(0, len(array), len(array)), array)\n"
   ]
  },
  {
   "cell_type": "code",
   "execution_count": 8,
   "metadata": {
    "collapsed": true
   },
   "outputs": [],
   "source": [
    "def makeXDatasetsForCapasity(xS=1, xVect=10):\n",
    "    fileName=\"B0006\"\n",
    "    pathDS=\"x\"+str(xVect)+\"x\"+str(xS)+\"/\"\n",
    "    a = loadmat(\"base_data/\"+fileName+\".mat\")\n",
    "    array=[]\n",
    "    newDS=open(pathDS+\"xd_train.csv\", \"w\")\n",
    "    for i in range(616):\n",
    "        numbOfFeat=len(a[fileName][0, 0][0][0][i][3][0][0])\n",
    "        numbOfVect=len(a[fileName][0, 0][0][0][i][3][0][0][0][0])    \n",
    "        typeCycle=a[fileName][0, 0][0][0][i][0][0]\n",
    "        if (not typeCycle==\"discharge\"):\n",
    "            continue\n",
    "        print i, numbOfVect\n",
    "        ar=np.linspace(0, numbOfVect-1, xVect, dtype=int)\n",
    "        for h in range(xS):\n",
    "            for j in ar:\n",
    "                for k in range (6): \n",
    "                    newDS.write(str(a[fileName][0, 0][0][0][i][3][0][0][k][0][j]))\n",
    "                    if (not (j==ar[-1] and k==5)):\n",
    "                        newDS.write(\";\")\n",
    "            newDS.write(\"\\n\")\n",
    "        #array.append(a[fileName][0, 0][0][0][i][3][0][0][6][0][0])\n",
    "    #print len(array)\n",
    "    newDS.close()\n",
    "    #plt.plot(np.linspace(0, len(array), len(array)), array)\n",
    "    fileName=\"B0018\"\n",
    "    a = loadmat(\"base_data/\"+fileName+\".mat\")\n",
    "    array=[]\n",
    "    newDS=open(pathDS+\"xd_test.csv\", \"w\")\n",
    "    for i in range(319):\n",
    "        numbOfFeat=len(a[fileName][0, 0][0][0][i][3][0][0])\n",
    "        numbOfVect=len(a[fileName][0, 0][0][0][i][3][0][0][0][0])    \n",
    "        #print numbOfVect\n",
    "        typeCycle=a[fileName][0, 0][0][0][i][0][0]\n",
    "        if (not typeCycle==\"discharge\"):\n",
    "            continue\n",
    "        ar=np.linspace(0, numbOfVect-1, xVect, dtype=int)\n",
    "        for j in ar:\n",
    "            for k in range (6): \n",
    "                newDS.write(str(a[fileName][0, 0][0][0][i][3][0][0][k][0][j]))\n",
    "                if (not (j==ar[-1] and k==5)):\n",
    "                    newDS.write(\";\")\n",
    "        newDS.write(\"\\n\")\n",
    "        #array.append(a[fileName][0, 0][0][0][i][3][0][0][6][0][0])\n",
    "    #print len(array)\n",
    "    newDS.close()\n",
    "#plt.plot(np.linspace(0, len(array), len(array)), array)\n"
   ]
  },
  {
   "cell_type": "code",
   "execution_count": 9,
   "metadata": {
    "collapsed": true
   },
   "outputs": [],
   "source": [
    "def importData(path):\n",
    "    X_train = pd.read_csv(str(path)+'/xd_train.csv', delimiter=';', header=None)\n",
    "    y_train=pd.read_csv(str(path)+'/y_train.csv', header=None)\n",
    "    X_test=pd.read_csv(str(path)+'/xd_test.csv', delimiter=';', header=None)\n",
    "    y_test=pd.read_csv(str(path)+'/y_test.csv', header=None)\n",
    "    return X_train, y_train, X_test, y_test\n",
    "def normalizeData(X_train, X_test):\n",
    "    X_train = (X_train - X_train.mean()) / X_train.std()\n",
    "    X_test = (X_test - X_test.mean())/X_test.std()\n",
    "    return X_train, X_test\n"
   ]
  },
  {
   "cell_type": "code",
   "execution_count": 10,
   "metadata": {
    "collapsed": true,
    "scrolled": true
   },
   "outputs": [],
   "source": [
    "def LSTMRes(X_train, X_test, y_train, y_test):\n",
    "    X_train, X_test, y_train, y_test= X_train.as_matrix(), X_test.as_matrix(), y_train.as_matrix(), y_test.as_matrix()\n",
    "    model = Sequential()\n",
    "    model.add(Dense(60, input_shape=(60,)))\n",
    "    model.add(Reshape((60,1)))\n",
    "    model.add(LSTM(60, return_sequences=True))\n",
    "    model.add(LSTM(60, dropout=0.3, recurrent_dropout=0.32))\n",
    "    model.add(Dense(1))\n",
    "    model.compile(loss='mean_squared_error', optimizer='adam')\n",
    "    print(model.summary())\n",
    "    model.fit(X_train, y_train, epochs=31)# validation_data=(X_test, y_test))    zLSMT = model.predict_proba(X_test)\n",
    "    zLSMT = model.predict(X_test)\n",
    "    y_res=open('y_testLSTM.csv', 'w')\n",
    "    y_res.write('\\n'.join(str(v[0]) for v in zLSMT))  \n",
    "    return zLSMT\n"
   ]
  },
  {
   "cell_type": "code",
   "execution_count": 11,
   "metadata": {
    "collapsed": true
   },
   "outputs": [],
   "source": [
    "def runLSTM():\n",
    "    np.random.seed(42)\n",
    "    x_train, y_train, x_test, y_test = importData('data60x10')\n",
    "    res = LSTMRes(x_train, x_test, y_train, y_test)\n",
    "    print(mean_squared_error(res, y_test))\n",
    "    #plt.figure(figsize=(15,15))\n",
    "    plt.plot(np.linspace(0, 132, 132), res)\n",
    "    plt.plot(np.linspace(0, 132, 132), y_test)\n",
    "    plt.show()"
   ]
  },
  {
   "cell_type": "code",
   "execution_count": 12,
   "metadata": {
    "collapsed": true
   },
   "outputs": [],
   "source": [
    "def graphicTimeCapas(fileName=\"B0006\"):\n",
    "    a = loadmat(\"base_data/\"+fileName+\".mat\")\n",
    "    arrayTime=[]\n",
    "    arrayCapas=[]\n",
    "    for i in range(616):\n",
    "        numbOfFeat=len(a[fileName][0, 0][0][0][i][3][0][0])\n",
    "        numbOfVect=len(a[fileName][0, 0][0][0][i][3][0][0][0][0])    \n",
    "        typeCycle=a[fileName][0, 0][0][0][i][0][0]\n",
    "        if (not typeCycle==\"discharge\"):\n",
    "            continue\n",
    "        arrayTime.append(a[fileName][0, 0][0][0][i][3][0][0][5][0][numbOfVect-1])\n",
    "        arrayCapas.append(a[fileName][0, 0][0][0][i][3][0][0][6][0][0])\n",
    "    plt.plot(arrayCapas, arrayTime)\n",
    "            "
   ]
  },
  {
   "cell_type": "code",
   "execution_count": null,
   "metadata": {
    "collapsed": true
   },
   "outputs": [],
   "source": [
    "def main():\n",
    "    runLSTM()\n",
    "    #graphicTimeCapas()\n",
    "    "
   ]
  },
  {
   "cell_type": "code",
   "execution_count": null,
   "metadata": {},
   "outputs": [
    {
     "name": "stdout",
     "output_type": "stream",
     "text": [
      "_________________________________________________________________\n",
      "Layer (type)                 Output Shape              Param #   \n",
      "=================================================================\n",
      "dense_1 (Dense)              (None, 60)                3660      \n",
      "_________________________________________________________________\n",
      "reshape_1 (Reshape)          (None, 60, 1)             0         \n",
      "_________________________________________________________________\n",
      "lstm_1 (LSTM)                (None, 60, 60)            14880     \n",
      "_________________________________________________________________\n",
      "lstm_2 (LSTM)                (None, 60)                29040     \n",
      "_________________________________________________________________\n",
      "dense_2 (Dense)              (None, 1)                 61        \n",
      "=================================================================\n",
      "Total params: 47,641\n",
      "Trainable params: 47,641\n",
      "Non-trainable params: 0\n",
      "_________________________________________________________________\n",
      "None\n",
      "Epoch 1/31\n",
      "1680/1680 [==============================] - 8s - loss: 0.1800     \n",
      "Epoch 2/31\n",
      " 960/1680 [================>.............] - ETA: 3s - loss: 0.0711"
     ]
    }
   ],
   "source": [
    "main()"
   ]
  }
 ],
 "metadata": {
  "kernelspec": {
   "display_name": "Python 2",
   "language": "python",
   "name": "python2"
  },
  "language_info": {
   "codemirror_mode": {
    "name": "ipython",
    "version": 2
   },
   "file_extension": ".py",
   "mimetype": "text/x-python",
   "name": "python",
   "nbconvert_exporter": "python",
   "pygments_lexer": "ipython2",
   "version": "2.7.13"
  }
 },
 "nbformat": 4,
 "nbformat_minor": 2
}
